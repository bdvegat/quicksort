{
 "cells": [
  {
   "cell_type": "markdown",
   "metadata": {},
   "source": [
    "## Quicksort"
   ]
  },
  {
   "cell_type": "code",
   "execution_count": 1,
   "metadata": {
    "scrolled": true
   },
   "outputs": [],
   "source": [
    "import random\n",
    "import math\n",
    "import numpy as np\n",
    "import matplotlib.pyplot as plt\n",
    "%matplotlib inline\n",
    "from datetime import datetime\n",
    "from datetime import timedelta"
   ]
  },
  {
   "cell_type": "code",
   "execution_count": 2,
   "metadata": {
    "scrolled": true
   },
   "outputs": [],
   "source": [
    "def randomquicksort(alist,times):\n",
    "    comp = [0]\n",
    "    randomquicksorthelper(alist,0,len(alist)-1,comp)\n",
    "    times.append(comp[0])"
   ]
  },
  {
   "cell_type": "code",
   "execution_count": 3,
   "metadata": {
    "scrolled": true
   },
   "outputs": [],
   "source": [
    "def randomquicksorthelper(alist,first,last,comp):\n",
    "    if first<last:\n",
    "\n",
    "        r = randompartition(alist,first,last)\n",
    "        splitpoint = r[0]\n",
    "        tmp = comp.pop()\n",
    "        comp.append(tmp+r[1])\n",
    "    \n",
    "        randomquicksorthelper(alist,first,splitpoint-1,comp)\n",
    "        randomquicksorthelper(alist,splitpoint+1,last,comp)\n",
    "\n"
   ]
  },
  {
   "cell_type": "code",
   "execution_count": 4,
   "metadata": {
    "scrolled": true
   },
   "outputs": [],
   "source": [
    "def randompartition(alist,first,last):\n",
    "  \n",
    "  \n",
    "    indxpiv = random.randint(first,last)\n",
    "    temp = alist[indxpiv]\n",
    "    alist[indxpiv] = alist[first]\n",
    "    alist[first] = temp\n",
    "   \n",
    "    pivotvalue = alist[first]\n",
    "    compspart = 0\n",
    "\n",
    "    leftmark = first+1\n",
    "    rightmark = last\n",
    "\n",
    "    done = False\n",
    "    while not done:\n",
    "\n",
    "        while leftmark <= rightmark and alist[leftmark] <= pivotvalue:\n",
    "            leftmark = leftmark + 1\n",
    "            compspart = compspart + 1\n",
    "        compspart = compspart + 1\n",
    "\n",
    "        while alist[rightmark] >= pivotvalue and rightmark >= leftmark:\n",
    "            rightmark = rightmark -1\n",
    "            compspart = compspart + 1\n",
    "        compspart = compspart + 1\n",
    "\n",
    "        if rightmark < leftmark:\n",
    "            done = True\n",
    "        else:\n",
    "            temp = alist[leftmark]\n",
    "            alist[leftmark] = alist[rightmark]\n",
    "            alist[rightmark] = temp\n",
    "\n",
    "    temp = alist[first]\n",
    "    alist[first] = alist[rightmark]\n",
    "    alist[rightmark] = temp\n",
    "\n",
    "\n",
    "    return rightmark,compspart"
   ]
  },
  {
   "cell_type": "code",
   "execution_count": 5,
   "metadata": {
    "scrolled": true
   },
   "outputs": [],
   "source": [
    "def randomquicksorttimedistrib(s,r):\n",
    "    \n",
    "    # Create an array of 1 .. n  \n",
    "    n=s\n",
    "    runs=r\n",
    "    x = []\n",
    "    time=[]\n",
    "    for i in range(1,n+1):\n",
    "        x.append(n+1-i)\n",
    "        \n",
    "    exTime=0  \n",
    "    t1=datetime.now()\n",
    "     # Run quicksort for each permutation\n",
    "    tlist =[]\n",
    "    for p in range(1,runs+1):\n",
    "        y = list(x)\n",
    "        randomquicksort(y,tlist)\n",
    "    t2=datetime.now() \n",
    "    exTime=(t2-t1).total_seconds()\n",
    "    \n",
    "    plt.hist(tlist)\n",
    "    plt.title(\"Number of comparison of Quicksort for all permutaions\")\n",
    "    plt.xlabel(\"Comparisons of elements\")\n",
    "    plt.ylabel(\"Frequency\")\n",
    "    plt.show()\n",
    "    \n",
    "    theoricMean = (n*math.log(n,2))\n",
    "    tlist = np.array(tlist)\n",
    "    mean = np.mean(tlist)\n",
    "    aux=0\n",
    "    for i in tlist:\n",
    "        if i>theoricMean*1.5:\n",
    "            aux+=1\n",
    "\n",
    "    aux=aux/runs        \n",
    "    print \"n\",n\n",
    "    print \"runs\",runs\n",
    "    print \"mean\", mean\n",
    "    print \"theoric mean\", theoricMean\n",
    "    print \"mean - theoric mean\", mean - theoricMean\n",
    "    print \"probablity that time is more than 1.5 theoric mean\",  aux,\"%\"\n",
    "\n",
    "    print \"min\",min(tlist)\n",
    "    print \"max\",max(tlist)\n",
    "    print \"execution time\", exTime, \"s\""
   ]
  },
  {
   "cell_type": "markdown",
   "metadata": {},
   "source": [
    "10 millones de ejecuciones"
   ]
  },
  {
   "cell_type": "code",
   "execution_count": 6,
   "metadata": {
    "scrolled": false
   },
   "outputs": [
    {
     "data": {
      "image/png": "[encoded data removed]",
      "text/plain": [
       "<matplotlib.figure.Figure at 0x6653470>"
      ]
     },
     "metadata": {},
     "output_type": "display_data"
    },
    {
     "name": "stdout",
     "output_type": "stream",
     "text": [
      "n 16\n",
      "runs 10000000\n",
      "mean 83.664581\n",
      "theoric mean 64.0\n",
      "mean - theoric mean 19.664581\n",
      "probablity that time is more than 1.5 theoric mean 0 %\n",
      "min 67\n",
      "max 146\n",
      "execution time 1138.015 s\n"
     ]
    }
   ],
   "source": [
    "randomquicksorttimedistrib(16,10000000)"
   ]
  },
  {
   "cell_type": "markdown",
   "metadata": {},
   "source": [
    "cantidad aproximada de ejecuciones en 5 horas"
   ]
  },
  {
   "cell_type": "code",
   "execution_count": 11,
   "metadata": {},
   "outputs": [
    {
     "name": "stdout",
     "output_type": "stream",
     "text": [
      "158172231\n"
     ]
    }
   ],
   "source": [
    "x=18000*10000000/1138\n",
    "print x"
   ]
  },
  {
   "cell_type": "code",
   "execution_count": 21,
   "metadata": {},
   "outputs": [],
   "source": [
    "def randomquicksorttimedistrib5h(s):\n",
    "    \n",
    "    # Create an array of 1 .. n  \n",
    "    n=s\n",
    "    runs=0\n",
    "    x = []\n",
    "    time=[]\n",
    "    for i in range(1,n+1):\n",
    "        x.append(n+1-i)\n",
    "        \n",
    "    # Run quicksort for each permutation\n",
    "    t1=datetime.now()\n",
    "    t2=datetime.now()\n",
    "    exTime=(t2-t1).total_seconds()\n",
    "    tlist =[]\n",
    "    while exTime<18000:\n",
    "        y = list(x)\n",
    "        randomquicksort(y,tlist)\n",
    "        runs+=1\n",
    "        t2=datetime.now()\n",
    "        exTime=(t2-t1).total_seconds()\n",
    "            \n",
    "    plt.hist(tlist)\n",
    "    plt.title(\"Number of comparison of Quicksort for all permutaions\")\n",
    "    plt.xlabel(\"Comparisons of elements\")\n",
    "    plt.ylabel(\"Frequency\")\n",
    "    plt.show()\n",
    "    \n",
    "    theoricMean = (n*math.log(n,2))\n",
    "    tlist = np.array(tlist)\n",
    "    mean = np.mean(tlist)\n",
    "    aux=0\n",
    "    for i in tlist:\n",
    "        if i>theoricMean*1.5:\n",
    "            aux+=1\n",
    "\n",
    "    aux=aux/runs        \n",
    "    print \"n\",n\n",
    "    print \"runs\",runs\n",
    "    print \"mean\", mean\n",
    "    print \"theoric mean\", theoricMean\n",
    "    print \"mean - theoric mean\", mean - theoricMean\n",
    "    print \"probablity that time is more than 1.5 theoric mean\",  aux,\"%\"\n",
    "\n",
    "    print \"min\",min(tlist)\n",
    "    print \"max\",max(tlist)\n",
    "    print \"execution time\", exTime, \"s\"\n",
    "    \n",
    "    "
   ]
  },
  {
   "cell_type": "markdown",
   "metadata": {},
   "source": [
    "Ejecuciones durante 5 hora"
   ]
  },
  {
   "cell_type": "code",
   "execution_count": 22,
   "metadata": {},
   "outputs": [
    {
     "data": {
      "image/png": "[encoded data removed]",
      "text/plain": [
       "<matplotlib.figure.Figure at 0x6e52320>"
      ]
     },
     "metadata": {},
     "output_type": "display_data"
    },
    {
     "name": "stdout",
     "output_type": "stream",
     "text": [
      "n 16\n",
      "runs 140842470\n",
      "mean 83.6667993113\n",
      "theoric mean 64.0\n",
      "mean - theoric mean 19.6667993113\n",
      "probablity that time is more than 1.5 theoric mean 0 %\n",
      "min 67\n",
      "max 150\n",
      "execution time 18000.001 s\n"
     ]
    }
   ],
   "source": [
    "randomquicksorttimedistrib5h(16)"
   ]
  }
 ],
 "metadata": {
  "kernelspec": {
   "display_name": "Python 2",
   "language": "python",
   "name": "python2"
  },
  "language_info": {
   "codemirror_mode": {
    "name": "ipython",
    "version": 2
   },
   "file_extension": ".py",
   "mimetype": "text/x-python",
   "name": "python",
   "nbconvert_exporter": "python",
   "pygments_lexer": "ipython2",
   "version": "2.7.14"
  }
 },
 "nbformat": 4,
 "nbformat_minor": 2
}
